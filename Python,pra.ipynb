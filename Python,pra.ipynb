{
  "nbformat": 4,
  "nbformat_minor": 0,
  "metadata": {
    "colab": {
      "provenance": [],
      "name": "Python,pra",
      "authorship_tag": "ABX9TyOWEjRxXgN/AzXewZXokq2R",
      "include_colab_link": true
    },
    "kernelspec": {
      "name": "python3",
      "display_name": "Python 3"
    },
    "language_info": {
      "name": "python"
    }
  },
  "cells": [
    {
      "cell_type": "markdown",
      "metadata": {
        "id": "view-in-github",
        "colab_type": "text"
      },
      "source": [
        "<a href=\"https://colab.research.google.com/github/0630ORT/-/blob/main/Python%2Cpra.ipynb\" target=\"_parent\"><img src=\"https://colab.research.google.com/assets/colab-badge.svg\" alt=\"Open In Colab\"/></a>"
      ]
    },
    {
      "cell_type": "code",
      "execution_count": null,
      "metadata": {
        "colab": {
          "base_uri": "https://localhost:8080/"
        },
        "id": "Gzr-150JQlYt",
        "outputId": "e5153320-e53e-4712-c886-afcdaf89958d"
      },
      "outputs": [
        {
          "output_type": "execute_result",
          "data": {
            "text/plain": [
              "-6"
            ]
          },
          "metadata": {},
          "execution_count": 7
        }
      ],
      "source": [
        "a = 3\n",
        "b = -6\n",
        "b"
      ]
    },
    {
      "cell_type": "code",
      "source": [
        "print(a + b)\n",
        "print(a - b)\n",
        "print(a * b)\n",
        "print(a / b)"
      ],
      "metadata": {
        "colab": {
          "base_uri": "https://localhost:8080/"
        },
        "id": "HkTnz4CnY1un",
        "outputId": "12b8fee7-96c5-4390-e0cd-c670e69a9a5e"
      },
      "execution_count": null,
      "outputs": [
        {
          "output_type": "stream",
          "name": "stdout",
          "text": [
            "-3\n",
            "9\n",
            "-18\n",
            "-0.5\n"
          ]
        }
      ]
    },
    {
      "cell_type": "code",
      "source": [
        "a == 3"
      ],
      "metadata": {
        "id": "ekkZVTMJVRbS",
        "outputId": "d3f20602-965c-47b6-eef0-722a296935d5",
        "colab": {
          "base_uri": "https://localhost:8080/",
          "height": 141
        }
      },
      "execution_count": null,
      "outputs": [
        {
          "output_type": "error",
          "ename": "NameError",
          "evalue": "name 'a' is not defined",
          "traceback": [
            "\u001b[0;31m---------------------------------------------------------------------------\u001b[0m",
            "\u001b[0;31mNameError\u001b[0m                                 Traceback (most recent call last)",
            "\u001b[0;32m<ipython-input-3-37e7e764427b>\u001b[0m in \u001b[0;36m<cell line: 1>\u001b[0;34m()\u001b[0m\n\u001b[0;32m----> 1\u001b[0;31m \u001b[0ma\u001b[0m \u001b[0;34m==\u001b[0m \u001b[0;36m3\u001b[0m\u001b[0;34m\u001b[0m\u001b[0;34m\u001b[0m\u001b[0m\n\u001b[0m",
            "\u001b[0;31mNameError\u001b[0m: name 'a' is not defined"
          ]
        }
      ]
    },
    {
      "cell_type": "code",
      "source": [
        "# xに好きな数字を代入\n",
        "x = 1\n",
        "\n",
        "# xによって条件分岐\n",
        "if x < 0:\n",
        "    print(\"ゼロより小さいです\")\n",
        "elif x >0:\n",
        "    print(\"ゼロより大きいです\")"
      ],
      "metadata": {
        "id": "fz3ZvmWTVhdZ",
        "colab": {
          "base_uri": "https://localhost:8080/"
        },
        "outputId": "89b1568a-5e5b-4061-c0c7-d000ae9c6a36"
      },
      "execution_count": null,
      "outputs": [
        {
          "output_type": "stream",
          "name": "stdout",
          "text": [
            "ゼロより大きいです\n"
          ]
        }
      ]
    }
  ]
}